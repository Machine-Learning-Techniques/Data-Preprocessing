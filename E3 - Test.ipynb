{
 "cells": [
  {
   "cell_type": "code",
   "execution_count": null,
   "metadata": {},
   "outputs": [],
   "source": [
    "# Importing the necessary libraries\n",
    "import numpy as np \n",
    "import pandas as pd \n",
    "from sklearn.compose import ColumnTransformer\n",
    "from sklearn.preprocessing import OneHotEncoder, LabelEncoder\n",
    "\n",
    "# Load the dataset\n",
    "#dataset = pd.read_csv('titanic.csv')\n",
    "#dataset.info()\n",
    "#print (dataset)\n",
    "\n",
    "df = pd.read_csv('titanic.csv')\n",
    "\n",
    "# Identify the categorical data\n",
    "#categorical_columns = dataset.select_dtypes(include=['object']).columns.tolist()\n",
    "#print (categorical_columns)\n",
    "\n",
    "categorical_features = ['Sex', 'Embarked', 'Pclass']\n",
    "\n",
    "#Dropping the useless columns\n",
    "#dataset = dataset.drop(columns = ['PassengerId', 'Name', 'Ticket', 'Cabin'])\n",
    "#print (dataset)\n",
    "\n",
    "#Reordering the columns to put the vector of dependent variables at the last\n",
    "# columns_order = ['Pclass', 'Sex', 'Age', 'SibSp', 'Parch', 'Fare', 'Embarked', 'Survived']\n",
    "# dataset = dataset [columns_order]\n",
    "#print (dataset)\n",
    "\n",
    "#Producing the matrix of features and the vector of dependent variables\n",
    "# X = dataset.iloc[: , :-1].values\n",
    "# y = dataset.iloc[: , -1].values\n",
    "\n",
    "# Implement an instance of the ColumnTransformer class\n",
    "#ctransformer = ColumnTransformer (transformers = [('encoder', OneHotEncoder(), ([-1]))], remainder = 'passthrough')\n",
    "\n",
    "ct = ColumnTransformer (transformers = [('encoder', OneHotEncoder(), categorical_features)], remainder = 'passthrough')\n",
    "\n",
    "# Apply the fit_transform method on the instance of ColumnTransformer\n",
    "X = ct.fit_transform(df)\n",
    "\n",
    "# Convert the output into a NumPy array\n",
    "#X = np.array(X)\n",
    "\n",
    "X = np.array(X)\n",
    "\n",
    "# Use LabelEncoder to encode binary categorical data\n",
    "le = LabelEncoder()\n",
    "y = le.fit_transform(df['Survived'])\n",
    "\n",
    "# Print the updated matrix of features and the dependent variable vector\n",
    "# print (X)\n",
    "# print (y)\n",
    "\n",
    "print(\"Updated matrix of features: \\n\", X)\n",
    "print(\"Updated dependent variable vector: \\n\", y)"
   ]
  },
  {
   "cell_type": "code",
   "execution_count": 58,
   "metadata": {},
   "outputs": [
    {
     "data": {
      "text/plain": [
       "(891, 12)"
      ]
     },
     "execution_count": 58,
     "metadata": {},
     "output_type": "execute_result"
    }
   ],
   "source": [
    "df.shape"
   ]
  },
  {
   "cell_type": "code",
   "execution_count": 59,
   "metadata": {},
   "outputs": [
    {
     "data": {
      "text/plain": [
       "array(['S', 'C', 'Q', nan], dtype=object)"
      ]
     },
     "execution_count": 59,
     "metadata": {},
     "output_type": "execute_result"
    }
   ],
   "source": [
    "df['Embarked'].unique()"
   ]
  },
  {
   "cell_type": "code",
   "execution_count": 62,
   "metadata": {},
   "outputs": [
    {
     "data": {
      "text/plain": [
       "(889, 12)"
      ]
     },
     "execution_count": 62,
     "metadata": {},
     "output_type": "execute_result"
    }
   ],
   "source": [
    "df.drop(df[df['Embarked'].isnull()].index, inplace=True)\n",
    "\n",
    "df.shape"
   ]
  },
  {
   "cell_type": "code",
   "execution_count": 39,
   "metadata": {},
   "outputs": [
    {
     "data": {
      "text/plain": [
       "(889, 12)"
      ]
     },
     "execution_count": 39,
     "metadata": {},
     "output_type": "execute_result"
    }
   ],
   "source": [
    "# null_indexes = df[df['Embarked'].isnull()].index\n",
    "\n",
    "# df_cleaned = df.drop(null_indexes)\n",
    "\n",
    "# df_cleaned.shape"
   ]
  },
  {
   "cell_type": "code",
   "execution_count": null,
   "metadata": {},
   "outputs": [],
   "source": [
    "# from sklearn.impute import SimpleImputer\n",
    "\n",
    "# imputer = SimpleImputer(missing_values=np.nan, strategy='mean')\n",
    "# imputer.fit(X[:, -1])\n",
    "# X[:, -1] = imputer.transform(X[:, -1])"
   ]
  },
  {
   "cell_type": "code",
   "execution_count": null,
   "metadata": {},
   "outputs": [],
   "source": [
    "ct = ColumnTransformer (transformers = [('encoder', OneHotEncoder(), (['Embarked']))], remainder = 'passthrough')\n",
    "\n",
    "X = ct.fit_transform(df)\n",
    "print(type(X))\n",
    "X[1]\n",
    "\n",
    "# X = np.array(X)\n",
    "\n",
    "\n",
    "# le = LabelEncoder()\n",
    "# y = le.fit_transform(df['Survived'])\n",
    "\n",
    "\n",
    "# print(\"Updated matrix of features: \\n\", X)\n",
    "# print(\"Updated dependent variable vector: \\n\", y)"
   ]
  }
 ],
 "metadata": {
  "kernelspec": {
   "display_name": "Python 3",
   "language": "python",
   "name": "python3"
  },
  "language_info": {
   "codemirror_mode": {
    "name": "ipython",
    "version": 3
   },
   "file_extension": ".py",
   "mimetype": "text/x-python",
   "name": "python",
   "nbconvert_exporter": "python",
   "pygments_lexer": "ipython3",
   "version": "3.11.5"
  }
 },
 "nbformat": 4,
 "nbformat_minor": 2
}
